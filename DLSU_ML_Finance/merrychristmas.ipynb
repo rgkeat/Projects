{
 "cells": [
  {
   "cell_type": "code",
   "execution_count": 1,
   "metadata": {},
   "outputs": [
    {
     "name": "stdout",
     "output_type": "stream",
     "text": [
      "              \u001b[32m* \u001b[39m\n",
      "            \u001b[32m* \u001b[39m\u001b[32m* \u001b[39m\u001b[32m* \u001b[39m\n",
      "          \u001b[32m* \u001b[39m\u001b[32m* \u001b[39m\u001b[32m* \u001b[39m\u001b[32m* \u001b[39m\u001b[32m* \u001b[39m\n",
      "        \u001b[32m* \u001b[39m\u001b[32m* \u001b[39m\u001b[32m* \u001b[39m\u001b[32m* \u001b[39m\u001b[32m* \u001b[39m\u001b[32m* \u001b[39m\u001b[32m* \u001b[39m\n",
      "      \u001b[32m* \u001b[39m\u001b[32m* \u001b[39m\u001b[32m* \u001b[39m\u001b[32m* \u001b[39m\u001b[32m* \u001b[39m\u001b[32m* \u001b[39m\u001b[32m* \u001b[39m\u001b[32m* \u001b[39m\u001b[32m* \u001b[39m\n",
      "    \u001b[32m* \u001b[39m\u001b[32m* \u001b[39m\u001b[32m* \u001b[39m\u001b[32m* \u001b[39m\u001b[32m* \u001b[39m\u001b[32m* \u001b[39m\u001b[32m* \u001b[39m\u001b[32m* \u001b[39m\u001b[32m* \u001b[39m\u001b[32m* \u001b[39m\u001b[32m* \u001b[39m\n",
      "  \u001b[32m* \u001b[39m\u001b[32m* \u001b[39m\u001b[32m* \u001b[39m\u001b[32m* \u001b[39m\u001b[32m* \u001b[39m\u001b[32m* \u001b[39m\u001b[32m* \u001b[39m\u001b[32m* \u001b[39m\u001b[32m* \u001b[39m\u001b[32m* \u001b[39m\u001b[32m* \u001b[39m\u001b[32m* \u001b[39m\u001b[32m* \u001b[39m\n",
      "              \u001b[32m* \u001b[39m\n",
      "            \u001b[32m* \u001b[39m\u001b[32m* \u001b[39m\u001b[32m* \u001b[39m\n",
      "          \u001b[32m* \u001b[39m\u001b[32m* \u001b[39m\u001b[32m* \u001b[39m\u001b[32m* \u001b[39m\u001b[32m* \u001b[39m\n",
      "        \u001b[32m* \u001b[39m\u001b[32m* \u001b[39m\u001b[32m* \u001b[39m\u001b[32m* \u001b[39m\u001b[32m* \u001b[39m\u001b[32m* \u001b[39m\u001b[32m* \u001b[39m\n",
      "      \u001b[32m* \u001b[39m\u001b[32m* \u001b[39m\u001b[32m* \u001b[39m\u001b[32m* \u001b[39m\u001b[32m* \u001b[39m\u001b[32m* \u001b[39m\u001b[32m* \u001b[39m\u001b[32m* \u001b[39m\u001b[32m* \u001b[39m\n",
      "    \u001b[32m* \u001b[39m\u001b[32m* \u001b[39m\u001b[32m* \u001b[39m\u001b[32m* \u001b[39m\u001b[32m* \u001b[39m\u001b[32m* \u001b[39m\u001b[32m* \u001b[39m\u001b[32m* \u001b[39m\u001b[32m* \u001b[39m\u001b[32m* \u001b[39m\u001b[32m* \u001b[39m\n",
      "  \u001b[32m* \u001b[39m\u001b[32m* \u001b[39m\u001b[32m* \u001b[39m\u001b[32m* \u001b[39m\u001b[32m* \u001b[39m\u001b[32m* \u001b[39m\u001b[32m* \u001b[39m\u001b[32m* \u001b[39m\u001b[32m* \u001b[39m\u001b[32m* \u001b[39m\u001b[32m* \u001b[39m\u001b[32m* \u001b[39m\u001b[32m* \u001b[39m\n",
      "            \u001b[34m* * *\n",
      "            \u001b[34m* * *\n",
      "            \u001b[34m* * *\n",
      "            \u001b[34m* * *\n",
      "            \u001b[34m* * *\n",
      "            \u001b[34m* * *\n",
      "            \u001b[34m* * *\n",
      "\n",
      "\n",
      "\u001b[31m   96 Days until Christmas!!\n"
     ]
    }
   ],
   "source": [
    "from datetime import date\n",
    "from colorama import Fore\n",
    "\n",
    "n=7\n",
    "\n",
    "def countDate(): #datetime used to compute real time date upon execution \n",
    "    sysDate = date.today() #gets the real time date using date module\n",
    "    xmasDate = date.fromisoformat('2023-12-25') # convets the christmas date string into a datetime object\n",
    "\n",
    "    countdownDate = xmasDate - sysDate # since the two variables are both datetime objects they can be subtracted \n",
    "    countdownString = str(countdownDate.days) #converts the subtracted value back into a string for printing\n",
    "    print(Fore.RED + \"   \" + countdownString + ' Days until Christmas!!')\n",
    "\n",
    "def treeTop(): # nested for loops to create the triangle shape\n",
    "    for i in range(n): #outerloop controls the flow using i \n",
    "        for j in range(n-i): # inner loop iterates 0 to 7-i. used to print spaces before the asterisk  \n",
    "            print(' ', end=' ') \n",
    "        for k in range(2*i+1): #inner loop iterates 0 to 2*i+1. used to print the asterisks\n",
    "            print(Fore.GREEN + '*', end= ' ' + Fore.RESET)\n",
    "        print() #prints a new line to restart the loop on to the next row, this completes the first outerloop, repeats until n'th specified time\n",
    "\n",
    "def treeTrunk(): # nested for loops to create the trunk\n",
    "    for i in range(n): # outerloop control flow\n",
    "        for j in range(n-1): # iterates 0 to n-1 times, creates spaces before the tree trunk to center it\n",
    "            print(' ',end= ' ') \n",
    "        print(Fore.BLUE + '* * *') # after inner loop finishes print spaces, this line prints the tree trunk\n",
    "#note: print(end=' '), end argument is used to ensure that characters are printed on same line \n",
    "\n",
    "treeTop()\n",
    "treeTop()\n",
    "treeTrunk()\n",
    "print(end='\\n')\n",
    "print(end='\\n')\n",
    "countDate()\n"
   ]
  }
 ],
 "metadata": {
  "kernelspec": {
   "display_name": "base",
   "language": "python",
   "name": "python3"
  },
  "language_info": {
   "codemirror_mode": {
    "name": "ipython",
    "version": 3
   },
   "file_extension": ".py",
   "mimetype": "text/x-python",
   "name": "python",
   "nbconvert_exporter": "python",
   "pygments_lexer": "ipython3",
   "version": "3.9.13"
  },
  "orig_nbformat": 4
 },
 "nbformat": 4,
 "nbformat_minor": 2
}
